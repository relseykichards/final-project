{
 "cells": [
  {
   "cell_type": "code",
   "execution_count": 10,
   "id": "a9ee7e60-d862-4303-be64-313484f73dc9",
   "metadata": {},
   "outputs": [],
   "source": [
    "# Import required libraries\n",
    "import numpy as np\n",
    "import pandas as pd\n",
    "import hvplot.pandas\n",
    "from pathlib import Path\n",
    "from sklearn.linear_model import LinearRegression\n",
    "\n",
    "# Load the historical data\n",
    "data = pd.read_csv(\"C:/Users/nigan/final-project/wine_data.csv\")\n",
    "\n",
    "# Drop rows with NaN values in the features and target\n",
    "data_cleaned = data.dropna()\n",
    "\n",
    "# Reformat data of the independent variable X as a single-column array\n",
    "X = data_cleaned[\"price\"].values.reshape(-1, 1)\n",
    "\n",
    "# Shape of X\n",
    "X.shape\n",
    "\n",
    "# Create an array for the dependent variable y\n",
    "y = data_cleaned[\"points\"]"
   ]
  },
  {
   "cell_type": "code",
   "execution_count": 14,
   "id": "5c1659e2-f4eb-4954-8327-2d18b2cc22af",
   "metadata": {},
   "outputs": [
    {
     "name": "stdout",
     "output_type": "stream",
     "text": [
      "Model's slope: [0.0377093]\n",
      "Model's y-intercept: 87.9750033898208\n",
      "Model's formula: points = 87.9750033898208 + 0.03770930289176392 * price\n",
      "Predicted points for a wine with a price of $1000: 125.68\n"
     ]
    }
   ],
   "source": [
    "# Create Linear Regression model\n",
    "model = LinearRegression()\n",
    "\n",
    "# Fit the data into the model\n",
    "model.fit(X, y)\n",
    "\n",
    "# Display the slope\n",
    "print(f\"Model's slope: {model.coef_}\")\n",
    "\n",
    "# Display the y-intercept\n",
    "print(f\"Model's y-intercept: {model.intercept_}\")\n",
    "\n",
    "# Display the model's best fit line formula\n",
    "print(f\"Model's formula: points = {model.intercept_} + {model.coef_[0]} * price\")\n",
    "\n",
    "# Predict the points for wines with prices greater than $1000\n",
    "price_to_predict = 1000\n",
    "predicted_points = model.predict(np.array([[price_to_predict]]))[0]\n",
    "\n",
    "# Display the prediction\n",
    "print(f\"Predicted points for a wine with a price of ${price_to_predict}: {predicted_points:.2f}\")\n"
   ]
  },
  {
   "cell_type": "code",
   "execution_count": null,
   "id": "7b7cc291-a979-44b0-adf3-7c5f778d5dbf",
   "metadata": {},
   "outputs": [],
   "source": []
  }
 ],
 "metadata": {
  "kernelspec": {
   "display_name": "Python 3 (ipykernel)",
   "language": "python",
   "name": "python3"
  },
  "language_info": {
   "codemirror_mode": {
    "name": "ipython",
    "version": 3
   },
   "file_extension": ".py",
   "mimetype": "text/x-python",
   "name": "python",
   "nbconvert_exporter": "python",
   "pygments_lexer": "ipython3",
   "version": "3.9.13"
  }
 },
 "nbformat": 4,
 "nbformat_minor": 5
}
