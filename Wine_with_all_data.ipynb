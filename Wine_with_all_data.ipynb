{
 "cells": [
  {
   "cell_type": "code",
   "execution_count": null,
   "id": "d4e90ba6-0187-4e75-88fe-cd23b25c5420",
   "metadata": {},
   "outputs": [],
   "source": [
    "import pandas as pd\n",
    "from pycaret.classification import *\n",
    "\n",
    "df = pd.read_csv(\"wine_data.csv\")\n",
    "#data2 = df[['description','wine_type','province','designation']].dropna()\n",
    "\n",
    "#d = data2.sample(1000)\n",
    "#exp1 = setup(d, target='wine_type',text_features=['description','province','designation'],text_features_method='tf-idf',session_id=123)\n",
    "\n",
    "data2 = df[['description','wine_type','province','designation']].dropna()\n",
    "d = data2.sample(1000)\n",
    "exp1 = setup(data2, target='wine_type',text_features=['description','province','designation'],text_features_method='tf-idf',session_id=123)\n"
   ]
  },
  {
   "cell_type": "code",
   "execution_count": null,
   "id": "90d09626-949f-41c1-85b4-7c03a63d5066",
   "metadata": {},
   "outputs": [],
   "source": [
    "get_config('X_train_transformed')"
   ]
  },
  {
   "cell_type": "code",
   "execution_count": null,
   "id": "213b45b8-7bdc-4014-b472-1f6b2f5db247",
   "metadata": {},
   "outputs": [],
   "source": [
    "best = compare_models(fold=5)"
   ]
  },
  {
   "cell_type": "code",
   "execution_count": null,
   "id": "3d000339-545f-44f9-98f9-51289abe15d1",
   "metadata": {},
   "outputs": [],
   "source": [
    "evaluate_model(best)"
   ]
  },
  {
   "cell_type": "code",
   "execution_count": null,
   "id": "8dec388e-f627-4ef0-add9-3d3cf1fba1ea",
   "metadata": {},
   "outputs": [],
   "source": [
    "holdout_pred = predict_model(best)"
   ]
  },
  {
   "cell_type": "code",
   "execution_count": null,
   "id": "50920149-02b5-474f-9c55-3ee808840247",
   "metadata": {},
   "outputs": [],
   "source": [
    "create_app(best)"
   ]
  },
  {
   "cell_type": "code",
   "execution_count": null,
   "id": "d707c3c8-0c71-4061-abda-b79545e03b4a",
   "metadata": {},
   "outputs": [],
   "source": []
  }
 ],
 "metadata": {
  "kernelspec": {
   "display_name": "Python 3 (ipykernel)",
   "language": "python",
   "name": "python3"
  },
  "language_info": {
   "codemirror_mode": {
    "name": "ipython",
    "version": 3
   },
   "file_extension": ".py",
   "mimetype": "text/x-python",
   "name": "python",
   "nbconvert_exporter": "python",
   "pygments_lexer": "ipython3",
   "version": "3.9.13"
  }
 },
 "nbformat": 4,
 "nbformat_minor": 5
}
