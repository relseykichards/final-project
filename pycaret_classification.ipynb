{
 "cells": [
  {
   "cell_type": "code",
   "execution_count": 2,
   "id": "8f85dd1b-74ad-4708-9ff6-da5fcb1dac3d",
   "metadata": {},
   "outputs": [],
   "source": [
    "import pandas as pd\n",
    "from pycaret.classification import *\n",
    "\n",
    "# Reading in our CSV\n",
    "df = pd.read_csv(\"wine_data.csv\")"
   ]
  },
  {
   "cell_type": "code",
   "execution_count": null,
   "id": "50d1713c-e40b-43da-b353-9663bc053618",
   "metadata": {},
   "outputs": [],
   "source": [
    "# Initial Model \n",
    "\n",
    "# Grabbing only the columns we need\n",
    "data = df[['description','wine_type']]\n",
    "\n",
    "# Setting up the features\n",
    "features = ['description']\n",
    "\n",
    "# Using a sample of the data \n",
    "sample = data.sample(1000)\n",
    "\n",
    "# Initializing the training environment\n",
    "exp1 = setup(sample, target='wine_type',text_features=features,text_features_method='tf-idf',session_id=123)"
   ]
  },
  {
   "cell_type": "code",
   "execution_count": null,
   "id": "90d09626-949f-41c1-85b4-7c03a63d5066",
   "metadata": {},
   "outputs": [],
   "source": [
    "# Accessing global environment variables\n",
    "get_config('X_train_transformed')"
   ]
  },
  {
   "cell_type": "code",
   "execution_count": null,
   "id": "213b45b8-7bdc-4014-b472-1f6b2f5db247",
   "metadata": {},
   "outputs": [],
   "source": [
    "# Trains and evaluates performance of all models in the model library\n",
    "best = compare_models(fold=5)"
   ]
  },
  {
   "cell_type": "code",
   "execution_count": null,
   "id": "3d000339-545f-44f9-98f9-51289abe15d1",
   "metadata": {},
   "outputs": [],
   "source": [
    "# Displays a user interface for analyzing performance of a trained model\n",
    "evaluate_model(best)"
   ]
  },
  {
   "cell_type": "code",
   "execution_count": null,
   "id": "8dec388e-f627-4ef0-add9-3d3cf1fba1ea",
   "metadata": {},
   "outputs": [],
   "source": [
    "# Outputs the score of the best model (i.e.  accuracy, recall, precision, F1)\n",
    "holdout_pred = predict_model(best)"
   ]
  },
  {
   "cell_type": "code",
   "execution_count": null,
   "id": "50920149-02b5-474f-9c55-3ee808840247",
   "metadata": {},
   "outputs": [],
   "source": [
    "# Creates a basic gradio app (package to create UI for ML model) to predict model based on input of descriptors\n",
    "create_app(best)"
   ]
  },
  {
   "cell_type": "code",
   "execution_count": null,
   "id": "ddd66e4b-b9af-4abc-ab6a-219101f04455",
   "metadata": {},
   "outputs": [],
   "source": [
    "# Optimization Attempt #1: Adding \"province\"\n",
    "\n",
    "# Grabbing only the columns we need\n",
    "data2 = df[['description','wine_type','province']].dropna()\n",
    "features = ['description','province']\n",
    "\n",
    "# Using a sample of the data \n",
    "sample2 = data2.sample(1000)\n",
    "\n",
    "# Initializing the training environment\n",
    "exp1 = setup(sample2, target='wine_type',text_features=features,text_features_method='tf-idf',session_id=123)"
   ]
  },
  {
   "cell_type": "code",
   "execution_count": null,
   "id": "4fa2aae1-69b4-4fab-92e8-d956357e0b84",
   "metadata": {},
   "outputs": [],
   "source": [
    "# Acessing global environment variables\n",
    "get_config('X_train_transformed')"
   ]
  },
  {
   "cell_type": "code",
   "execution_count": null,
   "id": "a5781078-936e-4350-8c4a-7e23424ae2bb",
   "metadata": {},
   "outputs": [],
   "source": [
    "# Trains and evaluates performance of all models in the model library\n",
    "best = compare_models(fold=5)"
   ]
  },
  {
   "cell_type": "code",
   "execution_count": null,
   "id": "34ff1bb9-e15d-4547-89aa-83f795cc95b4",
   "metadata": {},
   "outputs": [],
   "source": [
    "# Displays a user interface for analyzing performance of a trained model\n",
    "evaluate_model(best)"
   ]
  },
  {
   "cell_type": "code",
   "execution_count": null,
   "id": "d42f8c12-3052-421d-9225-78c5f8f2da35",
   "metadata": {},
   "outputs": [],
   "source": [
    "# Outputs the score of the best model (i.e.  accuracy, recall, precision, F1)\n",
    "holdout_pred = predict_model(best)"
   ]
  },
  {
   "cell_type": "code",
   "execution_count": null,
   "id": "9aab833b-ae8f-43c0-82fa-af7505a82786",
   "metadata": {},
   "outputs": [],
   "source": [
    "# Optimization Attempt #2: Adding \"designation\" and \"province\" as features \n",
    "\n",
    "# Grabbing only the columns we need\n",
    "data3 = df[['description','wine_type','province','designation']].dropna()\n",
    "features = ['description','province','designation']\n",
    "\n",
    "# Using a sample of the data \n",
    "sample3 = data3.sample(1000)\n",
    "\n",
    "# Initializing the training environment\n",
    "exp1 = setup(sample3, target='wine_type',text_features=features,text_features_method='tf-idf',session_id=123)"
   ]
  },
  {
   "cell_type": "code",
   "execution_count": null,
   "id": "989e45b7-1399-4b3f-9797-230b29d5b018",
   "metadata": {},
   "outputs": [],
   "source": [
    "# Acessing global environment variables\n",
    "get_config('X_train_transformed')"
   ]
  },
  {
   "cell_type": "code",
   "execution_count": null,
   "id": "4c46201d-4944-4828-935f-76e36ee179bf",
   "metadata": {},
   "outputs": [],
   "source": [
    "# Trains and evaluates performance of all models in the model library\n",
    "best = compare_models(fold=5)"
   ]
  },
  {
   "cell_type": "code",
   "execution_count": null,
   "id": "c25e28a6-5c6a-4cf6-a1a6-40eb33098939",
   "metadata": {},
   "outputs": [],
   "source": [
    "# Displays a user interface for analyzing performance of a trained model\n",
    "evaluate_model(best)"
   ]
  },
  {
   "cell_type": "code",
   "execution_count": null,
   "id": "79d6b6eb-0d77-4e6d-ae98-717b59e17db2",
   "metadata": {},
   "outputs": [],
   "source": [
    "# Outputs the score of the best model (i.e.  accuracy, recall, precision, F1)\n",
    "holdout_pred = predict_model(best)"
   ]
  },
  {
   "cell_type": "code",
   "execution_count": null,
   "id": "8ebb3a9f-a779-4224-8cad-975e50864852",
   "metadata": {},
   "outputs": [],
   "source": [
    "# Optimization Attempt #3: Using all 90k rows of data with \"designation\" and \"province\" as features \n",
    "data4 = df[['description','wine_type','province','designation']].dropna()\n",
    "features = ['description','province','designation']\n",
    "\n",
    "# Initializing the training environment\n",
    "exp1 = setup(data4, target='wine_type',text_features=features,text_features_method='tf-idf',session_id=123)"
   ]
  },
  {
   "cell_type": "code",
   "execution_count": null,
   "id": "0c2c06e7-295d-48e2-af7a-f459640c924f",
   "metadata": {},
   "outputs": [],
   "source": [
    "# Acessing global environment variables\n",
    "get_config('X_train_transformed')"
   ]
  },
  {
   "cell_type": "code",
   "execution_count": null,
   "id": "c4bcab44-59fe-4138-978e-ffc3563a5617",
   "metadata": {},
   "outputs": [],
   "source": [
    "# Trains and evaluates performance of all models in the model library\n",
    "best = compare_models(fold=5)"
   ]
  },
  {
   "cell_type": "code",
   "execution_count": null,
   "id": "a5aa7161-e510-41b8-afc3-375ed6edb540",
   "metadata": {},
   "outputs": [],
   "source": [
    "# Displays a user interface for analyzing performance of a trained model\n",
    "evaluate_model(best)"
   ]
  },
  {
   "cell_type": "code",
   "execution_count": null,
   "id": "dcd959e7-935b-43b0-8948-db37e5c7212b",
   "metadata": {},
   "outputs": [],
   "source": [
    "# Outputs the score of the best model (i.e.  accuracy, recall, precision, F1)\n",
    "holdout_pred = predict_model(best)"
   ]
  }
 ],
 "metadata": {
  "kernelspec": {
   "display_name": "Python 3.8.3 64-bit ('base': conda)",
   "language": "python",
   "name": "python383jvsc74a57bd0dca0ade3e726a953b501b15e8e990130d2b7799f14cfd9f4271676035ebe5511"
  },
  "language_info": {
   "codemirror_mode": {
    "name": "ipython",
    "version": 3
   },
   "file_extension": ".py",
   "mimetype": "text/x-python",
   "name": "python",
   "nbconvert_exporter": "python",
   "pygments_lexer": "ipython3",
   "version": "3.8.3"
  }
 },
 "nbformat": 4,
 "nbformat_minor": 5
}
